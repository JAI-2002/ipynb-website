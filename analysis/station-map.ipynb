{
 "cells": [
  {
   "cell_type": "markdown",
   "metadata": {},
   "source": [
    "# A map of the Divvy stations in Chicago\n",
    "\n",
    "**authors:** Peter Carbonetto, Gao Wang<br>\n",
    "**date:** July 13, 2017\n",
    "\n",
    "In this analysis, we use the Divvy trip and station data to generate a map of Chicago.\n",
    "\n",
    "We begin by loading a few packages, as well as some additional R functions implemented for this project. The `repr` package is used to adjust the figure dimensions in the Jupyter notebook."
   ]
  },
  {
   "cell_type": "code",
   "execution_count": 1,
   "metadata": {
    "collapsed": true
   },
   "outputs": [],
   "source": [
    "library(repr)\n",
    "library(data.table)\n",
    "library(ggplot2)\n",
    "source(\"../code/functions.R\")"
   ]
  },
  {
   "cell_type": "markdown",
   "metadata": {},
   "source": [
    "## Read the data\n",
    "\n",
    "As [before](first-glance.html), we use function `read.divvy.data` to read the trip and station data from the CSV files."
   ]
  },
  {
   "cell_type": "code",
   "execution_count": null,
   "metadata": {},
   "outputs": [],
   "source": [
    "divvy <- read.divvy.data()"
   ]
  },
  {
   "cell_type": "markdown",
   "metadata": {},
   "source": [
    "## Get total number of departures by station\n",
    "\n",
    "We use the trip data to get the total number of departures by station. From these data, we create a \"departures\" column in the table."
   ]
  },
  {
   "cell_type": "code",
   "execution_count": null,
   "metadata": {},
   "outputs": [],
   "source": [
    "divvy$stations <-\n",
    "  cbind(divvy$stations,\n",
    "    data.frame(departures = as.vector(table(divvy$trips$from_station_id))))\n",
    "summary(divvy$stations$departures)"
   ]
  },
  {
   "cell_type": "markdown",
   "metadata": {},
   "source": [
    "## Create a Divvy stations map\n",
    "\n",
    "A plot of the Divvy stations by geographic location (latitude and longitude) traces the outlines of the City of Chicago and the Lake Michigan shore. Further, the location of the downtown is apparent by scaling the area of each circle by the number of trips.\n",
    "\n",
    "The University of Chicago Divvy station is highlighted in red."
   ]
  },
  {
   "cell_type": "code",
   "execution_count": null,
   "metadata": {},
   "outputs": [],
   "source": [
    "options(repr.plot.width = 4.5, repr.plot.height = 4.5)\n",
    "divvy$stations <-\n",
    "  transform(divvy$stations,\n",
    "            at.uchicago = (name == \"University Ave & 57th St\"))\n",
    "ggplot(divvy$stations,aes(x    = longitude,\n",
    "                          y    = latitude,\n",
    "                          fill = at.uchicago,\n",
    "                          size = sqrt(departures))) +\n",
    "  geom_point(shape = 21,color = \"white\") +\n",
    "  scale_fill_manual(values = c(\"darkblue\",\"red\")) +\n",
    "  theme_minimal() +\n",
    "  theme(panel.grid.major = element_blank(),\n",
    "        panel.grid.minor = element_blank())"
   ]
  },
  {
   "cell_type": "markdown",
   "metadata": {},
   "source": [
    "## Session information\n",
    "\n",
    "This is the version of R and the packages that were used to generate\n",
    "these results."
   ]
  },
  {
   "cell_type": "code",
   "execution_count": null,
   "metadata": {},
   "outputs": [],
   "source": [
    "sessionInfo()"
   ]
  }
 ],
 "metadata": {
  "kernelspec": {
   "display_name": "R",
   "language": "R",
   "name": "ir"
  },
  "language_info": {
   "codemirror_mode": "r",
   "file_extension": ".r",
   "mimetype": "text/x-r-source",
   "name": "R",
   "pygments_lexer": "r",
   "version": "3.3.2"
  }
 },
 "nbformat": 4,
 "nbformat_minor": 2
}
