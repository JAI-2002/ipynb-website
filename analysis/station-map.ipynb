{
 "cells": [
  {
   "cell_type": "markdown",
   "metadata": {},
   "source": [
    "# A map of the Divvy stations in Chicago\n",
    "\n",
    "**author:** \"Peter Carbonetto\"<br>\n",
    "**date:** July 12, 2017\n",
    "\n",
    "In this analysis, I will use the Divvy trip and station data to generate a map of Chicago.\n",
    "\n",
    "I begin by loading a few packages, as well as some additional functions I wrote for this project."
   ]
  },
  {
   "cell_type": "code",
   "execution_count": 4,
   "metadata": {},
   "outputs": [],
   "source": [
    "library(repr)\n",
    "library(data.table)\n",
    "library(ggplot2)\n",
    "source(\"../code/functions.R\")"
   ]
  },
  {
   "cell_type": "markdown",
   "metadata": {},
   "source": [
    "## Read the data\n",
    "\n",
    "As [before](first-glance.html), I use function `read.divvy.data` to read the trip and station data from the CSV files."
   ]
  },
  {
   "cell_type": "code",
   "execution_count": 5,
   "metadata": {},
   "outputs": [
    {
     "name": "stdout",
     "output_type": "stream",
     "text": [
      "Reading station data from ../data/Divvy_Stations_2016_Q4.csv.\n",
      "Reading trip data from ../data/Divvy_Trips_2016_Q1.csv.\n",
      "Reading trip data from ../data/Divvy_Trips_2016_04.csv.\n",
      "Reading trip data from ../data/Divvy_Trips_2016_05.csv.\n",
      "Reading trip data from ../data/Divvy_Trips_2016_06.csv.\n",
      "Reading trip data from ../data/Divvy_Trips_2016_Q3.csv.\n",
      "Reading trip data from ../data/Divvy_Trips_2016_Q4.csv.\n",
      "Preparing Divvy data for analysis in R.\n",
      "Converting dates and times.\n"
     ]
    }
   ],
   "source": [
    "divvy <- read.divvy.data()"
   ]
  },
  {
   "cell_type": "markdown",
   "metadata": {},
   "source": [
    "## Get total number of departures by station\n",
    "\n",
    "I use the trip data to get the total number of departures by station. From these data, I create a new \"departures\" column in the table."
   ]
  },
  {
   "cell_type": "code",
   "execution_count": null,
   "metadata": {
    "collapsed": true
   },
   "outputs": [],
   "source": [
    "divvy$stations <-\n",
    "  cbind(divvy$stations,\n",
    "    data.frame(departures = as.vector(table(divvy$trips$from_station_id))))\n",
    "summary(divvy$stations$departures)"
   ]
  },
  {
   "cell_type": "markdown",
   "metadata": {},
   "source": [
    "## Create a Divvy stations map\n",
    "\n",
    "A plot of the Divvy stations by geographic location (latitude and longitude) traces the outlines of the City of Chicago and the Lake Michigan shore. Further, the location of the downtown is apparent by scaling the area of each circle by the number of trips.\n",
    "\n",
    "The University of Chicago Divvy station is highlighted in red."
   ]
  },
  {
   "cell_type": "code",
   "execution_count": null,
   "metadata": {
    "collapsed": true
   },
   "outputs": [],
   "source": [
    "divvy$stations <-\n",
    "  transform(divvy$stations,\n",
    "            at.uchicago = (name == \"University Ave & 57th St\"))\n",
    "ggplot(divvy$stations,aes(x    = longitude,\n",
    "                          y    = latitude,\n",
    "                          fill = at.uchicago,\n",
    "                          size = sqrt(departures))) +\n",
    "  geom_point(shape = 21,color = \"white\") +\n",
    "  scale_fill_manual(values = c(\"darkblue\",\"red\")) +\n",
    "  theme_minimal() +\n",
    "  theme(panel.grid.major = element_blank(),\n",
    "        panel.grid.minor = element_blank())"
   ]
  },
  {
   "cell_type": "markdown",
   "metadata": {},
   "source": [
    "## Session information\n",
    "\n",
    "This is the version of R and the packages that were used to generate\n",
    "these results."
   ]
  },
  {
   "cell_type": "code",
   "execution_count": 1,
   "metadata": {},
   "outputs": [
    {
     "data": {
      "text/plain": [
       "R version 3.3.2 (2016-10-31)\n",
       "Platform: x86_64-apple-darwin13.4.0 (64-bit)\n",
       "Running under: macOS Sierra 10.12.5\n",
       "\n",
       "locale:\n",
       "[1] en_US.UTF-8/en_US.UTF-8/en_US.UTF-8/C/en_US.UTF-8/en_US.UTF-8\n",
       "\n",
       "attached base packages:\n",
       "[1] stats     graphics  grDevices utils     datasets  methods   base     \n",
       "\n",
       "loaded via a namespace (and not attached):\n",
       " [1] R6_2.2.0        magrittr_1.5    IRdisplay_0.4.4 pbdZMQ_0.2-5   \n",
       " [5] tools_3.3.2     crayon_1.3.2    uuid_0.1-2      stringi_1.1.2  \n",
       " [9] IRkernel_0.7    jsonlite_1.5    stringr_1.2.0   digest_0.6.12  \n",
       "[13] repr_0.12.0     evaluate_0.10.1"
      ]
     },
     "metadata": {},
     "output_type": "display_data"
    }
   ],
   "source": [
    "sessionInfo()"
   ]
  }
 ],
 "metadata": {
  "kernelspec": {
   "display_name": "R",
   "language": "R",
   "name": "ir"
  },
  "language_info": {
   "codemirror_mode": "r",
   "file_extension": ".r",
   "mimetype": "text/x-r-source",
   "name": "R",
   "pygments_lexer": "r",
   "version": "3.3.2"
  }
 },
 "nbformat": 4,
 "nbformat_minor": 2
}
