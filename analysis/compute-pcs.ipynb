{
 "cells": [
  {
   "cell_type": "markdown",
   "metadata": {},
   "source": [
    "Begin by loading these packages into your R environment."
   ]
  },
  {
   "cell_type": "code",
   "execution_count": 1,
   "metadata": {
    "collapsed": true
   },
   "outputs": [],
   "source": [
    "library(repr)\n",
    "library(ggplot2)\n",
    "library(rsvd)"
   ]
  },
  {
   "cell_type": "markdown",
   "metadata": {},
   "source": [
    "## Load the data and compute the PCs\n",
    "\n",
    "Load the Iris data."
   ]
  },
  {
   "cell_type": "code",
   "execution_count": 2,
   "metadata": {
    "collapsed": true
   },
   "outputs": [],
   "source": [
    "data(iris)"
   ]
  },
  {
   "cell_type": "markdown",
   "metadata": {},
   "source": [
    "We use function `rpca` from the `rsvd` package to compute the principal components."
   ]
  },
  {
   "cell_type": "code",
   "execution_count": 3,
   "metadata": {
    "collapsed": true
   },
   "outputs": [],
   "source": [
    "out.pca <- rpca(iris[1:4],k = 4,center = TRUE,scale = FALSE,retx = TRUE)"
   ]
  },
  {
   "cell_type": "markdown",
   "metadata": {},
   "source": [
    "## Get overview of PCA results \n",
    "\n",
    "The first PC captures over 90% of the total variance in the Iris samples."
   ]
  },
  {
   "cell_type": "code",
   "execution_count": 4,
   "metadata": {},
   "outputs": [
    {
     "data": {
      "text/html": [
       "<table>\n",
       "<thead><tr><th></th><th scope=col>PC1</th><th scope=col>PC2</th><th scope=col>PC3</th><th scope=col>PC4</th></tr></thead>\n",
       "<tbody>\n",
       "\t<tr><th scope=row>Explained variance</th><td>4.228</td><td>0.243</td><td>0.078</td><td>0.024</td></tr>\n",
       "\t<tr><th scope=row>Standard deviations</th><td>2.056</td><td>0.493</td><td>0.280</td><td>0.154</td></tr>\n",
       "\t<tr><th scope=row>Proportion of variance</th><td>0.925</td><td>0.053</td><td>0.017</td><td>0.005</td></tr>\n",
       "\t<tr><th scope=row>Cumulative proportion</th><td>0.925</td><td>0.978</td><td>0.995</td><td>1.000</td></tr>\n",
       "\t<tr><th scope=row>Eigenvalues</th><td>4.228</td><td>0.243</td><td>0.078</td><td>0.024</td></tr>\n",
       "</tbody>\n",
       "</table>\n"
      ],
      "text/latex": [
       "\\begin{tabular}{r|llll}\n",
       "  & PC1 & PC2 & PC3 & PC4\\\\\n",
       "\\hline\n",
       "\tExplained variance & 4.228 & 0.243 & 0.078 & 0.024\\\\\n",
       "\tStandard deviations & 2.056 & 0.493 & 0.280 & 0.154\\\\\n",
       "\tProportion of variance & 0.925 & 0.053 & 0.017 & 0.005\\\\\n",
       "\tCumulative proportion & 0.925 & 0.978 & 0.995 & 1.000\\\\\n",
       "\tEigenvalues & 4.228 & 0.243 & 0.078 & 0.024\\\\\n",
       "\\end{tabular}\n"
      ],
      "text/markdown": [
       "\n",
       "| <!--/--> | PC1 | PC2 | PC3 | PC4 | \n",
       "|---|---|---|---|---|\n",
       "| Explained variance | 4.228 | 0.243 | 0.078 | 0.024 | \n",
       "| Standard deviations | 2.056 | 0.493 | 0.280 | 0.154 | \n",
       "| Proportion of variance | 0.925 | 0.053 | 0.017 | 0.005 | \n",
       "| Cumulative proportion | 0.925 | 0.978 | 0.995 | 1.000 | \n",
       "| Eigenvalues | 4.228 | 0.243 | 0.078 | 0.024 | \n",
       "\n",
       "\n"
      ],
      "text/plain": [
       "                       PC1   PC2   PC3   PC4  \n",
       "Explained variance     4.228 0.243 0.078 0.024\n",
       "Standard deviations    2.056 0.493 0.280 0.154\n",
       "Proportion of variance 0.925 0.053 0.017 0.005\n",
       "Cumulative proportion  0.925 0.978 0.995 1.000\n",
       "Eigenvalues            4.228 0.243 0.078 0.024"
      ]
     },
     "metadata": {},
     "output_type": "display_data"
    }
   ],
   "source": [
    "summary(out.pca)"
   ]
  },
  {
   "cell_type": "markdown",
   "metadata": {},
   "source": [
    "We can summarize the eigenvalues---equivalently, the variances of the PCs---visually using `screeplot` from the `stats` package."
   ]
  },
  {
   "cell_type": "code",
   "execution_count": 5,
   "metadata": {},
   "outputs": [
    {
     "data": {
      "image/png": "[encoded data removed]",
      "text/plain": [
       "plot without title"
      ]
     },
     "metadata": {},
     "output_type": "display_data"
    }
   ],
   "source": [
    "options(repr.plot.width = 3, repr.plot.height = 3)\n",
    "screeplot(out.pca,type = \"lines\",main = NULL)"
   ]
  },
  {
   "cell_type": "markdown",
   "metadata": {
    "collapsed": true
   },
   "source": [
    "## Session information\n",
    "\n",
    "This is the version of R and the packages that were used to generate\n",
    "these results."
   ]
  },
  {
   "cell_type": "code",
   "execution_count": 6,
   "metadata": {},
   "outputs": [
    {
     "data": {
      "text/plain": [
       "R version 3.3.2 (2016-10-31)\n",
       "Platform: x86_64-apple-darwin13.4.0 (64-bit)\n",
       "Running under: macOS Sierra 10.12.5\n",
       "\n",
       "locale:\n",
       "[1] en_US.UTF-8/en_US.UTF-8/en_US.UTF-8/C/en_US.UTF-8/en_US.UTF-8\n",
       "\n",
       "attached base packages:\n",
       "[1] stats     graphics  grDevices utils     datasets  methods   base     \n",
       "\n",
       "other attached packages:\n",
       "[1] rsvd_0.6      ggplot2_2.2.1 repr_0.12.0  \n",
       "\n",
       "loaded via a namespace (and not attached):\n",
       " [1] Rcpp_0.12.11     assertthat_0.2.0 digest_0.6.12    crayon_1.3.2    \n",
       " [5] IRdisplay_0.4.4  plyr_1.8.4       grid_3.3.2       R6_2.2.0        \n",
       " [9] jsonlite_1.5     gtable_0.2.0     magrittr_1.5     evaluate_0.10.1 \n",
       "[13] scales_0.4.1     stringi_1.1.2    lazyeval_0.2.0   uuid_0.1-2      \n",
       "[17] IRkernel_0.7     tools_3.3.2      stringr_1.2.0    munsell_0.4.3   \n",
       "[21] colorspace_1.3-2 pbdZMQ_0.2-5     tibble_1.2      "
      ]
     },
     "metadata": {},
     "output_type": "display_data"
    }
   ],
   "source": [
    "sessionInfo()"
   ]
  }
 ],
 "metadata": {
  "kernelspec": {
   "display_name": "R",
   "language": "R",
   "name": "ir"
  },
  "language_info": {
   "codemirror_mode": "r",
   "file_extension": ".r",
   "mimetype": "text/x-r-source",
   "name": "R",
   "pygments_lexer": "r",
   "version": "3.3.2"
  }
 },
 "nbformat": 4,
 "nbformat_minor": 2
}
