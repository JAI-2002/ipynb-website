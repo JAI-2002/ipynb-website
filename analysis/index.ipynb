{
 "cells": [
  {
   "cell_type": "markdown",
   "metadata": {},
   "source": [
    "# Computing and visualizing PCs using rsvd and ggplot2: an illustration"
   ]
  },
  {
   "cell_type": "markdown",
   "metadata": {},
   "source": [
    "## Quick Start\n",
    "\n",
    "1. Install the required packages from CRAN.\n",
    "\n",
    "   ```R\n",
    "   install.packages(c(\"repr\",\"ggplot2\",\"rsvd\"))\n",
    "   ```\n",
    "\n",
    "2. Walk through [the first notebook](compute-pcs.html) to compute the PCs using the `rsvd` package.\n",
    "\n",
    "3. Walk through [the second notebook](plot-pcs.html) to generate evocative visualizations of the PCA results using `ggplot2`."
   ]
  },
  {
   "cell_type": "markdown",
   "metadata": {},
   "source": [
    "## Credits\n",
    "\n",
    "This repository was developed by:\n",
    "    \n",
    "Peter Carbonetto<br>\n",
    "Research Computing Center<br>\n",
    "and Dept. of Human Genetics<br>\n",
    "University of Chicago"
   ]
  }
 ],
 "metadata": {
  "kernelspec": {
   "display_name": "R",
   "language": "R",
   "name": "ir"
  },
  "language_info": {
   "codemirror_mode": "r",
   "file_extension": ".r",
   "mimetype": "text/x-r-source",
   "name": "R",
   "pygments_lexer": "r",
   "version": "3.3.2"
  },
  "sos": {
   "celltoolbar": true,
   "kernels": [
    [
     "sos",
     "SoS",
     ""
    ]
   ],
   "panel": {
    "displayed": true,
    "height": 0,
    "style": "side"
   }
  }
 },
 "nbformat": 4,
 "nbformat_minor": 1
}
